{
  "nbformat": 4,
  "nbformat_minor": 0,
  "metadata": {
    "colab": {
      "provenance": [],
      "toc_visible": true,
      "authorship_tag": "ABX9TyPPNFwvJBP1MOc9mr9fAZ6C",
      "include_colab_link": true
    },
    "kernelspec": {
      "name": "python3",
      "display_name": "Python 3"
    },
    "language_info": {
      "name": "python"
    }
  },
  "cells": [
    {
      "cell_type": "markdown",
      "metadata": {
        "id": "view-in-github",
        "colab_type": "text"
      },
      "source": [
        "<a href=\"https://colab.research.google.com/github/SantiagoVe/PPI/blob/main/ppi1.ipynb\" target=\"_parent\"><img src=\"https://colab.research.google.com/assets/colab-badge.svg\" alt=\"Open In Colab\"/></a>"
      ]
    },
    {
      "cell_type": "markdown",
      "source": [
        "# Clase 1 Programación Para Ingeniería"
      ],
      "metadata": {
        "id": "zeGSgk9__cpz"
      }
    },
    {
      "cell_type": "markdown",
      "source": [
        "## Ejercicio random"
      ],
      "metadata": {
        "id": "Hl20l6wU_myq"
      }
    },
    {
      "cell_type": "code",
      "source": [
        "i =input(\"Ingrese algún numero para la suma\")\n",
        "j =input(\"Ingrese algún numero para la suma\")\n",
        "i1 = int(i)\n",
        "j1 = int(j)\n",
        "print(i1+j1)"
      ],
      "metadata": {
        "colab": {
          "base_uri": "https://localhost:8080/"
        },
        "id": "Nii9xzNe_u-p",
        "outputId": "e9951e7b-89b3-44bf-c80d-db50b9150333"
      },
      "execution_count": null,
      "outputs": [
        {
          "output_type": "stream",
          "name": "stdout",
          "text": [
            "Ingrese algún numero para la suma1\n",
            "Ingrese algún numero para la suma2\n",
            "3\n"
          ]
        }
      ]
    },
    {
      "cell_type": "markdown",
      "source": [
        "Chat GPT conversación:\n",
        "\n",
        "https://chat.openai.com/share/77d48cb3-2e66-43d1-ab72-45102695b132"
      ],
      "metadata": {
        "id": "elMqLOx6Ey8D"
      }
    }
  ]
}